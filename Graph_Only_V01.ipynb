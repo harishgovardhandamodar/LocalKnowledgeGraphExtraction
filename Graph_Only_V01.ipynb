{
 "cells": [
  {
   "cell_type": "code",
   "execution_count": 42,
   "id": "76d16535-b415-401d-8e7f-fe519ebf4a2f",
   "metadata": {},
   "outputs": [],
   "source": [
    "import pandas as pd\n",
    "import numpy as np\n",
    "import os\n",
    "from pathlib import Path"
   ]
  },
  {
   "cell_type": "code",
   "execution_count": 43,
   "id": "051809a8-8f68-44da-94bd-658b89b68bc2",
   "metadata": {},
   "outputs": [],
   "source": [
    "import networkx as nx\n",
    "import seaborn as sns\n",
    "from pyvis.network import Network\n",
    "import random"
   ]
  },
  {
   "cell_type": "code",
   "execution_count": 44,
   "id": "e6c46cd7-1d81-457d-bd60-0ae486428427",
   "metadata": {},
   "outputs": [],
   "source": [
    "## Input data directory\n",
    "##########################################################\n",
    "input_file_name = \"Saxony_Eastern_Expansion_EP_96.txt\"\n",
    "input_file_name = \"Harry_Potter_1_chapter_1.txt\"\n",
    "##########################################################\n",
    "data_dir = \"HotG_Data/\"+input_file_name\n",
    "inputdirectory = Path(f\"./{data_dir}\")\n",
    "\n",
    "## This is where the output csv files will be written\n",
    "#out_dir = data_dir\n",
    "#outputdirectory = Path(f\"./data_output/{out_dir}\")\n",
    "outputdirectory = Path(f\"./data_output\")"
   ]
  },
  {
   "cell_type": "code",
   "execution_count": 45,
   "id": "70db7c31-a159-479e-89a3-54476a00f1de",
   "metadata": {},
   "outputs": [
    {
     "name": "stdout",
     "output_type": "stream",
     "text": [
      "data_output/graph_Harry_Potter_1_chapter_1.csv\n",
      "data_output/chunks_Harry_Potter_1_chapter_1.csv\n",
      "data_output/graph_contex_prox_Harry_Potter_1_chapter_1.csv\n"
     ]
    }
   ],
   "source": [
    "output_graph_file_name = f\"graph_{input_file_name[:-4]}.csv\"\n",
    "output_graph_file_with_path = outputdirectory/output_graph_file_name\n",
    "\n",
    "output_chunks_file_name = f\"chunks_{input_file_name[:-4]}.csv\"\n",
    "output_chunks_file_with_path = outputdirectory/output_chunks_file_name\n",
    "\n",
    "output_context_prox_file_name = f\"graph_contex_prox_{input_file_name[:-4]}.csv\"\n",
    "output_context_prox_file_with_path = outputdirectory/output_context_prox_file_name\n",
    "\n",
    "print(output_graph_file_with_path)\n",
    "print(output_chunks_file_with_path)\n",
    "print(output_context_prox_file_with_path)"
   ]
  },
  {
   "cell_type": "code",
   "execution_count": null,
   "id": "5b974343-449b-4acb-8931-55824ae25769",
   "metadata": {},
   "outputs": [],
   "source": []
  },
  {
   "cell_type": "code",
   "execution_count": 46,
   "id": "6900988b-0856-46e0-8cad-29b7b7168a17",
   "metadata": {},
   "outputs": [],
   "source": [
    "dfg1 = pd.read_csv(output_graph_file_with_path, sep=\";\")"
   ]
  },
  {
   "cell_type": "code",
   "execution_count": 47,
   "id": "f20431a9-8409-49e3-bf30-11b0a0e1f227",
   "metadata": {},
   "outputs": [],
   "source": [
    "dfg2= pd.read_csv(output_context_prox_file_with_path, sep=\";\")"
   ]
  },
  {
   "cell_type": "code",
   "execution_count": 48,
   "id": "6d84c4c7-2748-4630-a167-2e9e02cdc370",
   "metadata": {},
   "outputs": [
    {
     "data": {
      "text/html": [
       "<div>\n",
       "<style scoped>\n",
       "    .dataframe tbody tr th:only-of-type {\n",
       "        vertical-align: middle;\n",
       "    }\n",
       "\n",
       "    .dataframe tbody tr th {\n",
       "        vertical-align: top;\n",
       "    }\n",
       "\n",
       "    .dataframe thead th {\n",
       "        text-align: right;\n",
       "    }\n",
       "</style>\n",
       "<table border=\"1\" class=\"dataframe\">\n",
       "  <thead>\n",
       "    <tr style=\"text-align: right;\">\n",
       "      <th></th>\n",
       "      <th>node_1</th>\n",
       "      <th>node_2</th>\n",
       "      <th>chunk_id</th>\n",
       "      <th>edge</th>\n",
       "      <th>count</th>\n",
       "    </tr>\n",
       "  </thead>\n",
       "  <tbody>\n",
       "    <tr>\n",
       "      <th>0</th>\n",
       "      <td>'potter'</td>\n",
       "      <td>mr. dursley</td>\n",
       "      <td>5e6a39886ae44e48ade45448fc9051ca,5e6a39886ae44...</td>\n",
       "      <td>contextual proximity</td>\n",
       "      <td>2.0</td>\n",
       "    </tr>\n",
       "    <tr>\n",
       "      <th>1</th>\n",
       "      <td>'potter'</td>\n",
       "      <td>mrs. dursley</td>\n",
       "      <td>5e6a39886ae44e48ade45448fc9051ca,5e6a39886ae44...</td>\n",
       "      <td>contextual proximity</td>\n",
       "      <td>2.0</td>\n",
       "    </tr>\n",
       "    <tr>\n",
       "      <th>2</th>\n",
       "      <td>'potter'</td>\n",
       "      <td>petunia</td>\n",
       "      <td>5e6a39886ae44e48ade45448fc9051ca,5e6a39886ae44...</td>\n",
       "      <td>contextual proximity</td>\n",
       "      <td>2.0</td>\n",
       "    </tr>\n",
       "    <tr>\n",
       "      <th>3</th>\n",
       "      <td>'potter'</td>\n",
       "      <td>sister of petunia</td>\n",
       "      <td>5e6a39886ae44e48ade45448fc9051ca,5e6a39886ae44...</td>\n",
       "      <td>The name 'Potter' is related to Petunia's sist...</td>\n",
       "      <td>3.0</td>\n",
       "    </tr>\n",
       "    <tr>\n",
       "      <th>4</th>\n",
       "      <td>a piercing stare</td>\n",
       "      <td>are dead</td>\n",
       "      <td>26c5b0d9c07d41e7baccd8e596c93446,26c5b0d9c07d4...</td>\n",
       "      <td>contextual proximity</td>\n",
       "      <td>2.0</td>\n",
       "    </tr>\n",
       "    <tr>\n",
       "      <th>...</th>\n",
       "      <td>...</td>\n",
       "      <td>...</td>\n",
       "      <td>...</td>\n",
       "      <td>...</td>\n",
       "      <td>...</td>\n",
       "    </tr>\n",
       "    <tr>\n",
       "      <th>789</th>\n",
       "      <td>you-know-who</td>\n",
       "      <td>dumbledore</td>\n",
       "      <td>17c96105c1404e8fa8440d826854b0dd,17c96105c1404...</td>\n",
       "      <td>contextual proximity</td>\n",
       "      <td>2.0</td>\n",
       "    </tr>\n",
       "    <tr>\n",
       "      <th>790</th>\n",
       "      <td>you-know-who</td>\n",
       "      <td>powers</td>\n",
       "      <td>17c96105c1404e8fa8440d826854b0dd,17c96105c1404...</td>\n",
       "      <td>contextual proximity</td>\n",
       "      <td>2.0</td>\n",
       "    </tr>\n",
       "    <tr>\n",
       "      <th>791</th>\n",
       "      <td>you-know-who</td>\n",
       "      <td>professor mcgonagall</td>\n",
       "      <td>17c96105c1404e8fa8440d826854b0dd,17c96105c1404...</td>\n",
       "      <td>contextual proximity</td>\n",
       "      <td>2.0</td>\n",
       "    </tr>\n",
       "    <tr>\n",
       "      <th>792</th>\n",
       "      <td>you-know-who</td>\n",
       "      <td>voldemort</td>\n",
       "      <td>17c96105c1404e8fa8440d826854b0dd,17c96105c1404...</td>\n",
       "      <td>You-Know-Who is a nickname or alias for the ac...</td>\n",
       "      <td>2.0</td>\n",
       "    </tr>\n",
       "    <tr>\n",
       "      <th>793</th>\n",
       "      <td>youknow-who</td>\n",
       "      <td>voldemort</td>\n",
       "      <td>0a172c4d70d34552bb20440b65f72350</td>\n",
       "      <td>In this context, they refer to the same person...</td>\n",
       "      <td>0.0</td>\n",
       "    </tr>\n",
       "  </tbody>\n",
       "</table>\n",
       "<p>794 rows × 5 columns</p>\n",
       "</div>"
      ],
      "text/plain": [
       "               node_1                node_2  \\\n",
       "0            'potter'           mr. dursley   \n",
       "1            'potter'          mrs. dursley   \n",
       "2            'potter'               petunia   \n",
       "3            'potter'     sister of petunia   \n",
       "4    a piercing stare              are dead   \n",
       "..                ...                   ...   \n",
       "789      you-know-who            dumbledore   \n",
       "790      you-know-who                powers   \n",
       "791      you-know-who  professor mcgonagall   \n",
       "792      you-know-who             voldemort   \n",
       "793       youknow-who             voldemort   \n",
       "\n",
       "                                              chunk_id  \\\n",
       "0    5e6a39886ae44e48ade45448fc9051ca,5e6a39886ae44...   \n",
       "1    5e6a39886ae44e48ade45448fc9051ca,5e6a39886ae44...   \n",
       "2    5e6a39886ae44e48ade45448fc9051ca,5e6a39886ae44...   \n",
       "3    5e6a39886ae44e48ade45448fc9051ca,5e6a39886ae44...   \n",
       "4    26c5b0d9c07d41e7baccd8e596c93446,26c5b0d9c07d4...   \n",
       "..                                                 ...   \n",
       "789  17c96105c1404e8fa8440d826854b0dd,17c96105c1404...   \n",
       "790  17c96105c1404e8fa8440d826854b0dd,17c96105c1404...   \n",
       "791  17c96105c1404e8fa8440d826854b0dd,17c96105c1404...   \n",
       "792  17c96105c1404e8fa8440d826854b0dd,17c96105c1404...   \n",
       "793                   0a172c4d70d34552bb20440b65f72350   \n",
       "\n",
       "                                                  edge  count  \n",
       "0                                 contextual proximity    2.0  \n",
       "1                                 contextual proximity    2.0  \n",
       "2                                 contextual proximity    2.0  \n",
       "3    The name 'Potter' is related to Petunia's sist...    3.0  \n",
       "4                                 contextual proximity    2.0  \n",
       "..                                                 ...    ...  \n",
       "789                               contextual proximity    2.0  \n",
       "790                               contextual proximity    2.0  \n",
       "791                               contextual proximity    2.0  \n",
       "792  You-Know-Who is a nickname or alias for the ac...    2.0  \n",
       "793  In this context, they refer to the same person...    0.0  \n",
       "\n",
       "[794 rows x 5 columns]"
      ]
     },
     "execution_count": 48,
     "metadata": {},
     "output_type": "execute_result"
    }
   ],
   "source": [
    "dfg = pd.concat([dfg1, dfg2], axis=0)\n",
    "dfg = (\n",
    "    dfg.groupby([\"node_1\", \"node_2\"])\n",
    "    .agg({\"chunk_id\": \",\".join, \"edge\": ','.join, 'count': 'sum'})\n",
    "    .reset_index()\n",
    ")\n",
    "dfg"
   ]
  },
  {
   "cell_type": "code",
   "execution_count": 49,
   "id": "84b41acc-72c6-4243-b311-d3d4e203f53f",
   "metadata": {},
   "outputs": [
    {
     "data": {
      "text/plain": [
       "(192,)"
      ]
     },
     "execution_count": 49,
     "metadata": {},
     "output_type": "execute_result"
    }
   ],
   "source": [
    "nodes = pd.concat([dfg['node_1'], dfg['node_2']], axis=0).unique()\n",
    "nodes.shape"
   ]
  },
  {
   "cell_type": "code",
   "execution_count": 50,
   "id": "5ccf2256-4407-4786-af48-2d81a613d18e",
   "metadata": {},
   "outputs": [],
   "source": [
    "G = nx.Graph()\n",
    "\n",
    "## Add nodes to the graph\n",
    "for node in nodes:\n",
    "    G.add_node(\n",
    "        str(node)\n",
    "    )\n",
    "\n",
    "## Add edges to the graph\n",
    "for index, row in dfg.iterrows():\n",
    "    G.add_edge(\n",
    "        str(row[\"node_1\"]),\n",
    "        str(row[\"node_2\"]),\n",
    "        title=row[\"edge\"],\n",
    "        weight=row['count']/4\n",
    "    )"
   ]
  },
  {
   "cell_type": "code",
   "execution_count": 51,
   "id": "86d9d076-ef37-4f15-b686-a11d432e63e6",
   "metadata": {},
   "outputs": [
    {
     "name": "stdout",
     "output_type": "stream",
     "text": [
      "Number of Communities =  12\n",
      "[[\"'potter'\", 'bakery', 'car', 'cat', 'collecting tin', \"daughter's problems\", 'driving', 'dudley', \"dudley's age\", 'fear', 'five different people', 'frozen in armchair', 'grunnings', 'grunnings parking lot', 'half past eight', 'happy', 'harry', 'he', \"heard the name 'potter'\", 'howard/harry', 'learning new word', 'lily potter (implied)', 'looking at the sign', 'lunchtime', 'map', 'morning', 'mr. dursley', \"mr. dursley's garden wall\", 'mrs. dursley', \"mrs. dursley's sister's husband\", 'mrs. next door', \"mrs. potter's family\", 'muggle', 'nasty, common name', \"nation's owls\", 'night hunting', 'normal behavior', 'normal day', 'not young', 'noticing strange people', 'owl-free', 'owls', 'people down in the street', 'people in cloaks', 'petunia', 'potters', 'secret', 'several important telephone calls', 'sister of petunia', 'son, harry', 'strangely dressed people', 'stranger', 'tabby cat', 'the dursleys', 'the potters', \"the potters' son\", \"the potters, that's right, that's what i heard yes, their son, harry\", 'their son', 'thinking of large order of drills', 'unable to remember the event', 'unusual behavior', 'violet cloak', 'whispering excitedly', 'whispering excitedly together'], ['a kind of muggle sweet', 'lemon drops'], ['a piercing stare', 'amusement', 'anxious', 'are dead', 'astonishing things', 'baby boy (harry)', \"being harry's only family left\", 'being late', \"being late and informing about dumbledore's whereabouts\", 'better option for harry', 'black hair in a tight bun', 'books', 'celebrations', 'concern for waking muggles', 'could not kill harry potter', 'curiously shaped cut on the forehead', 'darkness', 'doorstep', 'dumbledore', 'dursleys', \"dursleys' son\", 'emerald cloak', 'emotional state', 'every child in our world', \"explaining everything to harry when he's older\", 'extreme size', 'falling from sky', 'famous', 'famous person', 'future event', 'go to find the potters', 'growing up away from fame', 'hagrid', 'harry potter', 'harry potter day', 'harry potter knowledgeable group', 'harry potter related', \"harry's aunt and uncle\", \"harry's blanket\", \"harry's bundle\", 'hermione', 'killing a little boy (harry potter)', 'legend', 'lily and james potter', 'living with the dursleys', 'man on motorcycle', 'mistreating his mother', 'motorcycle', 'nobility', \"not being like hogwarts' people\", 'not believe the rumor', 'number of feasts and parties on her way here', 'people meeting in secret', 'power to remove scars', 'powers', 'prodded and pinched', 'professor mcgonagall', 'put-outer', 'ruffled appearance', 'rumors', 'severe-looking woman', 'silver cigarette lighter', 'sirius', 'sirius black', 'special', 'square glasses', 'street lamps', 'surviving an attack from voldemort', \"telling about harry's whereabouts\", \"the reason behind harry's survival\", 'trust', 'trusted with bringing harry', \"try to kill the potter's son, harry\", \"turn up in godric's hollow\", 'unknown', 'voldemort', 'watching the dursleys', 'woken up', 'writing a letter to the dursleys', 'you-know-who', 'youknow-who'], ['albus dumbledore', 'blue eyes, light, bright and sparkling behind half-moon spectacles', 'boss', 'corner', 'home number', 'long and crooked nose', 'long robes, purple cloak and high-heeled boots', 'looking up suddenly at the cat', 'man', 'nephew', 'not realizing he had just arrived in a street where everything from his name to his boots was unwelcome', 'office', 'privet drive', 'realizing he was being watched', 'rummaging in his cloak, looking for something', 'secretary', 'silver hair and beard', 'tall, thin and very old', 'tiny old man'], ['are being downright careless, out on the streets in broad daylight, not even dressed in muggle clothes, swapping rumors', 'dedalus diggle', 'disappearance of youknow-who', 'flocks of owls, shooting stars', \"have noticed something's going on\", 'muggles', 'muggles have noticed', 'non-magical people', 'not completely stupid', 'people', 'people are careless, spreading rumors', 'unusual events'], ['downpour of shooting stars', 'viewers'], ['experts', 'unable to explain'], ['killing harry potter', \"voldemort's power\"], ['large, tawny owl', 'the events happening all over the country'], ['promise of rain', 'weatherman'], ['scars', 'usefulness'], ['strange and mysterious things happening all over the country', 'the weather']]\n"
     ]
    }
   ],
   "source": [
    "communities_generator = nx.community.girvan_newman(G)\n",
    "top_level_communities = next(communities_generator)\n",
    "next_level_communities = next(communities_generator)\n",
    "communities = sorted(map(sorted, next_level_communities))\n",
    "print(\"Number of Communities = \", len(communities))\n",
    "print(communities)"
   ]
  },
  {
   "cell_type": "code",
   "execution_count": 52,
   "id": "a4091457-445a-4701-b437-1e5ae80c05fe",
   "metadata": {},
   "outputs": [
    {
     "data": {
      "text/html": [
       "<div>\n",
       "<style scoped>\n",
       "    .dataframe tbody tr th:only-of-type {\n",
       "        vertical-align: middle;\n",
       "    }\n",
       "\n",
       "    .dataframe tbody tr th {\n",
       "        vertical-align: top;\n",
       "    }\n",
       "\n",
       "    .dataframe thead th {\n",
       "        text-align: right;\n",
       "    }\n",
       "</style>\n",
       "<table border=\"1\" class=\"dataframe\">\n",
       "  <thead>\n",
       "    <tr style=\"text-align: right;\">\n",
       "      <th></th>\n",
       "      <th>node</th>\n",
       "      <th>color</th>\n",
       "      <th>group</th>\n",
       "    </tr>\n",
       "  </thead>\n",
       "  <tbody>\n",
       "    <tr>\n",
       "      <th>0</th>\n",
       "      <td>'potter'</td>\n",
       "      <td>#db57d3</td>\n",
       "      <td>1</td>\n",
       "    </tr>\n",
       "    <tr>\n",
       "      <th>1</th>\n",
       "      <td>bakery</td>\n",
       "      <td>#db57d3</td>\n",
       "      <td>1</td>\n",
       "    </tr>\n",
       "    <tr>\n",
       "      <th>2</th>\n",
       "      <td>car</td>\n",
       "      <td>#db57d3</td>\n",
       "      <td>1</td>\n",
       "    </tr>\n",
       "    <tr>\n",
       "      <th>3</th>\n",
       "      <td>cat</td>\n",
       "      <td>#db57d3</td>\n",
       "      <td>1</td>\n",
       "    </tr>\n",
       "    <tr>\n",
       "      <th>4</th>\n",
       "      <td>collecting tin</td>\n",
       "      <td>#db57d3</td>\n",
       "      <td>1</td>\n",
       "    </tr>\n",
       "    <tr>\n",
       "      <th>...</th>\n",
       "      <td>...</td>\n",
       "      <td>...</td>\n",
       "      <td>...</td>\n",
       "    </tr>\n",
       "    <tr>\n",
       "      <th>187</th>\n",
       "      <td>weatherman</td>\n",
       "      <td>#91db57</td>\n",
       "      <td>10</td>\n",
       "    </tr>\n",
       "    <tr>\n",
       "      <th>188</th>\n",
       "      <td>scars</td>\n",
       "      <td>#57db5f</td>\n",
       "      <td>11</td>\n",
       "    </tr>\n",
       "    <tr>\n",
       "      <th>189</th>\n",
       "      <td>usefulness</td>\n",
       "      <td>#57db5f</td>\n",
       "      <td>11</td>\n",
       "    </tr>\n",
       "    <tr>\n",
       "      <th>190</th>\n",
       "      <td>strange and mysterious things happening all ov...</td>\n",
       "      <td>#a157db</td>\n",
       "      <td>12</td>\n",
       "    </tr>\n",
       "    <tr>\n",
       "      <th>191</th>\n",
       "      <td>the weather</td>\n",
       "      <td>#a157db</td>\n",
       "      <td>12</td>\n",
       "    </tr>\n",
       "  </tbody>\n",
       "</table>\n",
       "<p>192 rows × 3 columns</p>\n",
       "</div>"
      ],
      "text/plain": [
       "                                                  node    color  group\n",
       "0                                             'potter'  #db57d3      1\n",
       "1                                               bakery  #db57d3      1\n",
       "2                                                  car  #db57d3      1\n",
       "3                                                  cat  #db57d3      1\n",
       "4                                       collecting tin  #db57d3      1\n",
       "..                                                 ...      ...    ...\n",
       "187                                         weatherman  #91db57     10\n",
       "188                                              scars  #57db5f     11\n",
       "189                                         usefulness  #57db5f     11\n",
       "190  strange and mysterious things happening all ov...  #a157db     12\n",
       "191                                        the weather  #a157db     12\n",
       "\n",
       "[192 rows x 3 columns]"
      ]
     },
     "execution_count": 52,
     "metadata": {},
     "output_type": "execute_result"
    }
   ],
   "source": [
    "palette = \"hls\"\n",
    "\n",
    "## Now add these colors to communities and make another dataframe\n",
    "def colors2Community(communities) -> pd.DataFrame:\n",
    "    ## Define a color palette\n",
    "    p = sns.color_palette(palette, len(communities)).as_hex()\n",
    "    random.shuffle(p)\n",
    "    rows = []\n",
    "    group = 0\n",
    "    for community in communities:\n",
    "        color = p.pop()\n",
    "        group += 1\n",
    "        for node in community:\n",
    "            rows += [{\"node\": node, \"color\": color, \"group\": group}]\n",
    "    df_colors = pd.DataFrame(rows)\n",
    "    return df_colors\n",
    "\n",
    "\n",
    "colors = colors2Community(communities)\n",
    "colors"
   ]
  },
  {
   "cell_type": "code",
   "execution_count": 53,
   "id": "6c1f9e0f-9997-4fa4-8554-b52e9945054d",
   "metadata": {},
   "outputs": [],
   "source": [
    "for index, row in colors.iterrows():\n",
    "    G.nodes[row['node']]['group'] = row['group']\n",
    "    G.nodes[row['node']]['color'] = row['color']\n",
    "    G.nodes[row['node']]['size'] = G.degree[row['node']]"
   ]
  },
  {
   "cell_type": "code",
   "execution_count": 54,
   "id": "deed6a22-d32e-4e6e-a5bc-d1949f8d3f27",
   "metadata": {},
   "outputs": [],
   "source": [
    "#graph_output_directory = \"./docs/index.html\"\n",
    "net = Network(\n",
    "    notebook=True,\n",
    "    # bgcolor=\"#1a1a1a\",\n",
    "    cdn_resources=\"remote\",\n",
    "    height=\"900px\",\n",
    "    width=\"100%\",\n",
    "    select_menu=True,\n",
    "    # font_color=\"#cccccc\",\n",
    "    filter_menu=False,\n",
    ")"
   ]
  },
  {
   "cell_type": "code",
   "execution_count": 55,
   "id": "3af13ead-71b4-45a4-b12a-e1129a35834b",
   "metadata": {},
   "outputs": [],
   "source": [
    "net.from_nx(G)\n",
    "# net.repulsion(node_distance=150, spring_length=400)\n",
    "net.force_atlas_2based(central_gravity=0.015, gravity=-31)\n",
    "# net.barnes_hut(gravity=-18100, central_gravity=5.05, spring_length=380)\n",
    "net.show_buttons(filter_=[\"physics\"])"
   ]
  },
  {
   "cell_type": "code",
   "execution_count": 56,
   "id": "03223a68-2395-41e9-a0d5-5f602a9f4f49",
   "metadata": {},
   "outputs": [
    {
     "name": "stdout",
     "output_type": "stream",
     "text": [
      "graph.html\n"
     ]
    },
    {
     "data": {
      "text/html": [
       "\n",
       "        <iframe\n",
       "            width=\"100%\"\n",
       "            height=\"900px\"\n",
       "            src=\"graph.html\"\n",
       "            frameborder=\"0\"\n",
       "            allowfullscreen\n",
       "            \n",
       "        ></iframe>\n",
       "        "
      ],
      "text/plain": [
       "<IPython.lib.display.IFrame at 0x10a36eb00>"
      ]
     },
     "execution_count": 56,
     "metadata": {},
     "output_type": "execute_result"
    }
   ],
   "source": [
    "# net.show(graph_output_directory)\n",
    "net.show(\"graph.html\")"
   ]
  },
  {
   "cell_type": "code",
   "execution_count": null,
   "id": "a0140b43-53a6-4826-9411-13eefa917387",
   "metadata": {},
   "outputs": [],
   "source": []
  },
  {
   "cell_type": "code",
   "execution_count": null,
   "id": "8f2a92e8-84be-41f6-b853-cc1f56b5a336",
   "metadata": {},
   "outputs": [],
   "source": []
  }
 ],
 "metadata": {
  "kernelspec": {
   "display_name": "dl",
   "language": "python",
   "name": "python3"
  },
  "language_info": {
   "codemirror_mode": {
    "name": "ipython",
    "version": 3
   },
   "file_extension": ".py",
   "mimetype": "text/x-python",
   "name": "python",
   "nbconvert_exporter": "python",
   "pygments_lexer": "ipython3",
   "version": "3.10.13"
  }
 },
 "nbformat": 4,
 "nbformat_minor": 5
}
